{
  "nbformat": 4,
  "nbformat_minor": 0,
  "metadata": {
    "colab": {
      "name": "Intro Python.ipynb",
      "provenance": []
    },
    "kernelspec": {
      "name": "python3",
      "display_name": "Python 3"
    }
  },
  "cells": [
    {
      "cell_type": "markdown",
      "metadata": {
        "id": "zVQHimRGeS75",
        "colab_type": "text"
      },
      "source": [
        "\n",
        "\n",
        "---\n",
        "\n"
      ]
    },
    {
      "cell_type": "markdown",
      "metadata": {
        "id": "lk1w6d8zfJbb",
        "colab_type": "text"
      },
      "source": [
        "# **INTRODUCTION TO PYTHON PROGRAMMING**"
      ]
    },
    {
      "cell_type": "markdown",
      "metadata": {
        "id": "9LygxZuMiKAB",
        "colab_type": "text"
      },
      "source": [
        "## Why Python?\n",
        "Python is a high-level programming language that allows you to solve general-purpose problems. It is especially useful in data processing, pattern recognition and artificial intelligence applications. Think of a kind of very powerful programmable scientific calculator.\n",
        "\n",
        "The objective of this first part of the course is to hace a crash course on Python programming. In the following laboratory sessions you will learn how to use Python in order to do data analysis and machine learning. "
      ]
    },
    {
      "cell_type": "markdown",
      "metadata": {
        "id": "pEQYpwPvfvWO",
        "colab_type": "text"
      },
      "source": [
        "## The google Colaboratory programming platform:\n",
        "\n",
        "There are a large number of programming environments that allow you to develop programs with Python. The most common ones are installing in your computer a complete Python programming platform such as Anaconda (https://www.anaconda.com/, for MacOS and Windows) or WinPython (https://winpython.github.io/, Windows only). These distributions work perfectly fine but require lots of ressources from your personal computers in terms of disk, memory and CPU. Instead, in the course we will use a google cloud platform called google collaboratory that already has all the available libraries and allows us to work without the need to install anything on our computers:\n",
        "\n",
        "https://colab.research.google.com/\n",
        "\n",
        "The only thing it asks us to start working is a google account. In addition, it allows us to run the programs on google servers, which can be very useful when we manipulate large amounts of data.\n",
        "\n",
        "The way to program on this platform are the jupyter notebooks: A notebook is a document that combines text and Python code. A notebook is composed of two different kinds of cells: code cells and text cells. Text cells are used to explain what we do at any given time, and the Python code excutes different code segments that perform different functions.  Here is a brief tutorial of how to get started working with juputer notebooks in Google colab: \n",
        "\n",
        "https://colab.research.google.com/notebooks/intro.ipynb\n",
        "\n"
      ]
    },
    {
      "cell_type": "markdown",
      "metadata": {
        "id": "jsxiJZwxdlzZ",
        "colab_type": "text"
      },
      "source": [
        "## Executing commands\n",
        "\n",
        "In order to execute a command, you should write it in a **code cell** and execute it by either clicking in the play icon on the left or by the keyboard shortcut Shift+Return. "
      ]
    },
    {
      "cell_type": "code",
      "metadata": {
        "id": "eY80RVdvdlza",
        "colab_type": "code",
        "colab": {
          "base_uri": "https://localhost:8080/",
          "height": 34
        },
        "outputId": "98c5129e-d695-40a6-8d48-7b3dbc76396b"
      },
      "source": [
        "3 + 4 + 9"
      ],
      "execution_count": 1,
      "outputs": [
        {
          "output_type": "execute_result",
          "data": {
            "text/plain": [
              "16"
            ]
          },
          "metadata": {
            "tags": []
          },
          "execution_count": 1
        }
      ]
    },
    {
      "cell_type": "code",
      "metadata": {
        "id": "puH-CkUPdlzg",
        "colab_type": "code",
        "colab": {
          "base_uri": "https://localhost:8080/",
          "height": 34
        },
        "outputId": "5df7a8e0-9cde-4a41-d929-8ba00b88393e"
      },
      "source": [
        "list(range(10))"
      ],
      "execution_count": 2,
      "outputs": [
        {
          "output_type": "execute_result",
          "data": {
            "text/plain": [
              "[0, 1, 2, 3, 4, 5, 6, 7, 8, 9]"
            ]
          },
          "metadata": {
            "tags": []
          },
          "execution_count": 2
        }
      ]
    },
    {
      "cell_type": "markdown",
      "metadata": {
        "id": "0laSTlXFdlzl",
        "colab_type": "text"
      },
      "source": [
        "## Modules and libraries\n",
        "\n",
        "Python is a general-purpose programming language, so when we want to use more specific commands (such as statistical operators or string processing operators) we usually need to import them before we can use them. For Scientific Python, one of the most important libraries that we need is **numpy** (Numerical Python, NumPy: Basic mathematical operations with vectors and arrays: https://numpy.org/), which can be loaded like this:"
      ]
    },
    {
      "cell_type": "code",
      "metadata": {
        "id": "6BbJUhuJdlzm",
        "colab_type": "code",
        "colab": {
          "base_uri": "https://localhost:8080/",
          "height": 34
        },
        "outputId": "c036fe26-d329-4560-ebd0-1e8a95518079"
      },
      "source": [
        "import numpy as np\n",
        "np.sqrt(25)"
      ],
      "execution_count": 5,
      "outputs": [
        {
          "output_type": "execute_result",
          "data": {
            "text/plain": [
              "5.0"
            ]
          },
          "metadata": {
            "tags": []
          },
          "execution_count": 5
        }
      ]
    },
    {
      "cell_type": "code",
      "metadata": {
        "id": "yDfExa3edlzp",
        "colab_type": "code",
        "colab": {
          "base_uri": "https://localhost:8080/",
          "height": 34
        },
        "outputId": "cf94a8f2-40cc-4141-cd1c-f6634ce422ba"
      },
      "source": [
        "np.arange(10)"
      ],
      "execution_count": 6,
      "outputs": [
        {
          "output_type": "execute_result",
          "data": {
            "text/plain": [
              "array([0, 1, 2, 3, 4, 5, 6, 7, 8, 9])"
            ]
          },
          "metadata": {
            "tags": []
          },
          "execution_count": 6
        }
      ]
    },
    {
      "cell_type": "markdown",
      "metadata": {
        "id": "SqBm2382dlzs",
        "colab_type": "text"
      },
      "source": [
        "Access to the functions, variables and classes of a module depends on the way the module was imported:"
      ]
    },
    {
      "cell_type": "code",
      "metadata": {
        "id": "Ua9DHZr9dlzt",
        "colab_type": "code",
        "colab": {
          "base_uri": "https://localhost:8080/",
          "height": 34
        },
        "outputId": "00318ad2-a03f-492a-dd71-1df7d1421083"
      },
      "source": [
        "import math\n",
        "math.cos(math.pi)"
      ],
      "execution_count": 7,
      "outputs": [
        {
          "output_type": "execute_result",
          "data": {
            "text/plain": [
              "-1.0"
            ]
          },
          "metadata": {
            "tags": []
          },
          "execution_count": 7
        }
      ]
    },
    {
      "cell_type": "code",
      "metadata": {
        "id": "MaFbhc7Odlzw",
        "colab_type": "code",
        "colab": {
          "base_uri": "https://localhost:8080/",
          "height": 34
        },
        "outputId": "518c9e82-4a9f-4523-f2b4-cbc5402c5d07"
      },
      "source": [
        "import math as m  # import using an alias\n",
        "m.cos(m.pi)"
      ],
      "execution_count": 8,
      "outputs": [
        {
          "output_type": "execute_result",
          "data": {
            "text/plain": [
              "-1.0"
            ]
          },
          "metadata": {
            "tags": []
          },
          "execution_count": 8
        }
      ]
    },
    {
      "cell_type": "code",
      "metadata": {
        "id": "3TT4wy9cdlz1",
        "colab_type": "code",
        "colab": {
          "base_uri": "https://localhost:8080/",
          "height": 34
        },
        "outputId": "a5271b30-5e5c-46bc-d57d-259d54510ee2"
      },
      "source": [
        "from math import cos,pi # import only some functions\n",
        "cos(pi)"
      ],
      "execution_count": 9,
      "outputs": [
        {
          "output_type": "execute_result",
          "data": {
            "text/plain": [
              "-1.0"
            ]
          },
          "metadata": {
            "tags": []
          },
          "execution_count": 9
        }
      ]
    },
    {
      "cell_type": "code",
      "metadata": {
        "id": "UXDvJrm8dlz4",
        "colab_type": "code",
        "colab": {
          "base_uri": "https://localhost:8080/",
          "height": 34
        },
        "outputId": "2b65d890-9508-4ab5-e802-421373eee532"
      },
      "source": [
        "from math import *   # global import\n",
        "cos(pi)"
      ],
      "execution_count": 10,
      "outputs": [
        {
          "output_type": "execute_result",
          "data": {
            "text/plain": [
              "-1.0"
            ]
          },
          "metadata": {
            "tags": []
          },
          "execution_count": 10
        }
      ]
    },
    {
      "cell_type": "markdown",
      "metadata": {
        "id": "Y7nBmqjVi1L8",
        "colab_type": "text"
      },
      "source": [
        "Basides Numoy, the most important in the field of data analysis are the following:\n",
        "\n",
        "Scipy: Basic Statistical Operations: https://www.scipy.org/\n",
        "\n",
        "Pandas: Allows you to manipulate data files in excel, csv, text, etc. https://pandas.pydata.org/\n",
        "\n",
        "Seaborn: Graphing data in pandas format: https://seaborn.pydata.org/\n",
        "\n",
        "sckit-learn: Pattern recognition and artificial intelligence tools https://scikit-learn.org/stable/\n",
        "\n",
        "sckit-image: Image processing https://scikit-image.org/"
      ]
    },
    {
      "cell_type": "markdown",
      "metadata": {
        "id": "Zi5A_CoIdlz7",
        "colab_type": "text"
      },
      "source": [
        "## Variables\n",
        "Often the value returned by an operation will be used later on. Values can be stored for later use with the **assignment operator**:"
      ]
    },
    {
      "cell_type": "code",
      "metadata": {
        "id": "0latO-7hdlz8",
        "colab_type": "code",
        "colab": {
          "base_uri": "https://localhost:8080/",
          "height": 34
        },
        "outputId": "a5e2caf3-10a2-4726-fa64-90ba8cfc330f"
      },
      "source": [
        "a = 101\n",
        "type(a)"
      ],
      "execution_count": 11,
      "outputs": [
        {
          "output_type": "execute_result",
          "data": {
            "text/plain": [
              "int"
            ]
          },
          "metadata": {
            "tags": []
          },
          "execution_count": 11
        }
      ]
    },
    {
      "cell_type": "markdown",
      "metadata": {
        "id": "t2OkIhnBdlz_",
        "colab_type": "text"
      },
      "source": [
        "The command has stored the value 101 under the name <code>a</code>. Such stored values are called **objects**. \n",
        "\n",
        "Making an assignment to an object defines the object. Once an object has been defined, it can be referred to and used in later computations. \n",
        "\n",
        "To refer to the value stored in the object, just use the object’s name itself. For instance:"
      ]
    },
    {
      "cell_type": "code",
      "metadata": {
        "id": "r8c44B9Vdlz_",
        "colab_type": "code",
        "colab": {
          "base_uri": "https://localhost:8080/",
          "height": 34
        },
        "outputId": "706dd7bf-1a00-4a6d-e794-67da00c34ea8"
      },
      "source": [
        "a = np.sqrt(a)\n",
        "a\n",
        "type(a)"
      ],
      "execution_count": 12,
      "outputs": [
        {
          "output_type": "execute_result",
          "data": {
            "text/plain": [
              "numpy.float64"
            ]
          },
          "metadata": {
            "tags": []
          },
          "execution_count": 12
        }
      ]
    },
    {
      "cell_type": "markdown",
      "metadata": {
        "id": "_ZUXo-hHdl0D",
        "colab_type": "text"
      },
      "source": [
        "There are some general rules for object names:\n",
        "\n",
        "+ Use only letters and numbers and ‘underscores’ (_)\n",
        "+ Do NOT use spaces anywhere in the name\n",
        "+ A number cannot be the first character in the name\n",
        "+ Capital letters are treated as distinct from lower-case letters (i.e., Python is case-sensitive)"
      ]
    },
    {
      "cell_type": "code",
      "metadata": {
        "id": "H2HeJqLddl0D",
        "colab_type": "code",
        "colab": {
          "base_uri": "https://localhost:8080/",
          "height": 130
        },
        "outputId": "5a506e91-007c-4125-8f65-9d8131dc76de"
      },
      "source": [
        "3a = 10"
      ],
      "execution_count": 16,
      "outputs": [
        {
          "output_type": "error",
          "ename": "SyntaxError",
          "evalue": "ignored",
          "traceback": [
            "\u001b[0;36m  File \u001b[0;32m\"<ipython-input-16-f986eee6e224>\"\u001b[0;36m, line \u001b[0;32m1\u001b[0m\n\u001b[0;31m    3a = 10\u001b[0m\n\u001b[0m     ^\u001b[0m\n\u001b[0;31mSyntaxError\u001b[0m\u001b[0;31m:\u001b[0m invalid syntax\n"
          ]
        }
      ]
    },
    {
      "cell_type": "markdown",
      "metadata": {
        "id": "rRL5Sf7Udl0G",
        "colab_type": "text"
      },
      "source": [
        "## Dynamic Typing\n",
        "\n",
        "When you assign a new value to an existing object (*dynamic typing*), the former values of that object is erased from the computer memory. For instance, we can assign a calue to a variable b:"
      ]
    },
    {
      "cell_type": "code",
      "metadata": {
        "id": "4oNwpNw5j7B9",
        "colab_type": "code",
        "colab": {}
      },
      "source": [
        "b = 10.0498756211"
      ],
      "execution_count": 17,
      "outputs": []
    },
    {
      "cell_type": "markdown",
      "metadata": {
        "id": "CSxN5a_Mj_ET",
        "colab_type": "text"
      },
      "source": [
        "but after a new assignment:"
      ]
    },
    {
      "cell_type": "code",
      "metadata": {
        "id": "PebXsichdl0H",
        "colab_type": "code",
        "colab": {
          "base_uri": "https://localhost:8080/",
          "height": 34
        },
        "outputId": "3fe6d125-2e61-4a4e-bd20-e7a35561620b"
      },
      "source": [
        "b = 'a'\n",
        "print(b)"
      ],
      "execution_count": 18,
      "outputs": [
        {
          "output_type": "stream",
          "text": [
            "a\n"
          ],
          "name": "stdout"
        }
      ]
    },
    {
      "cell_type": "markdown",
      "metadata": {
        "id": "4FHWf6Rddl0K",
        "colab_type": "text"
      },
      "source": [
        "The value of an object is changed only via the assignment operator. Using an object in a computation does not change the value. "
      ]
    },
    {
      "cell_type": "markdown",
      "metadata": {
        "id": "hlJpyEJmdl0L",
        "colab_type": "text"
      },
      "source": [
        "The brilliant thing about organizing operators in terms of input arguments and output values is that the output of one operator can be used as an input to another. This lets complicated computations be built out of simpler ones.\n",
        "\n",
        "One way to connect the computations is by using objects to store the intermediate outputs:"
      ]
    },
    {
      "cell_type": "code",
      "metadata": {
        "id": "3Fi9JBM7dl0L",
        "colab_type": "code",
        "colab": {
          "base_uri": "https://localhost:8080/",
          "height": 34
        },
        "outputId": "188c6cf3-9bd5-4c48-8708-8346176ad0ed"
      },
      "source": [
        "a = np.arange(5)\n",
        "np.sqrt(a)"
      ],
      "execution_count": 19,
      "outputs": [
        {
          "output_type": "execute_result",
          "data": {
            "text/plain": [
              "array([0.        , 1.        , 1.41421356, 1.73205081, 2.        ])"
            ]
          },
          "metadata": {
            "tags": []
          },
          "execution_count": 19
        }
      ]
    },
    {
      "cell_type": "markdown",
      "metadata": {
        "id": "45uNiqIpdl0O",
        "colab_type": "text"
      },
      "source": [
        "You can also pass the output of an operator directly as an argument to another operator:"
      ]
    },
    {
      "cell_type": "code",
      "metadata": {
        "id": "PBAU4RRxdl0P",
        "colab_type": "code",
        "colab": {
          "base_uri": "https://localhost:8080/",
          "height": 34
        },
        "outputId": "b9c949e2-3712-4a14-9d8f-6bec9a7e414b"
      },
      "source": [
        "np.sqrt(np.arange(5))"
      ],
      "execution_count": 20,
      "outputs": [
        {
          "output_type": "execute_result",
          "data": {
            "text/plain": [
              "array([0.        , 1.        , 1.41421356, 1.73205081, 2.        ])"
            ]
          },
          "metadata": {
            "tags": []
          },
          "execution_count": 20
        }
      ]
    },
    {
      "cell_type": "markdown",
      "metadata": {
        "id": "_IPYLDUHdl0S",
        "colab_type": "text"
      },
      "source": [
        "Most of the examples used so far have dealt with numbers. But computers work with other kinds of information as well: text, photographs, sounds, sets of data, and so on. The word *type* is used to refer to the kind of information. \n",
        "\n",
        "It’s important to know about the types of data because operators expect their input arguments to be of specific types. When you use the wrong type of input, the computer might not be able to process your command."
      ]
    },
    {
      "cell_type": "markdown",
      "metadata": {
        "id": "c7y1ri1fdl0T",
        "colab_type": "text"
      },
      "source": [
        "For our purposes, it’s important to distinguish among several basic types:\n",
        "\n",
        "+ Numeric (positive and negative) data: \n",
        "    + decimal and fractional numbers (**floats**), <code>a = 3.5</code>\n",
        "    + arbitrary length whole numbers (**ints**):  <code>c=1809109863596239561236235625629561</code>\n",
        "+ **Strings** of textual data - you indicate string data to the computer by enclosing the text in quotation marks (e.g., <code>name = \"python\"</code>).\n",
        "+ **Boolean** data: <code>a = True</code> or <code>a = False</code>.\n",
        "+ **Complex** numbers: <code>a = 2+3j</code>\n",
        "+ Sequence types: **tuples, lists, sets, dictionaries** and **files**."
      ]
    },
    {
      "cell_type": "code",
      "metadata": {
        "id": "VjIHSZeydl0T",
        "colab_type": "code",
        "colab": {
          "base_uri": "https://localhost:8080/",
          "height": 34
        },
        "outputId": "9e9c13fa-3acf-4825-b9dc-e372eafd96fe"
      },
      "source": [
        "a = True\n",
        "type(a)"
      ],
      "execution_count": 21,
      "outputs": [
        {
          "output_type": "execute_result",
          "data": {
            "text/plain": [
              "bool"
            ]
          },
          "metadata": {
            "tags": []
          },
          "execution_count": 21
        }
      ]
    },
    {
      "cell_type": "code",
      "metadata": {
        "id": "G_0DlIuedl0X",
        "colab_type": "code",
        "colab": {
          "base_uri": "https://localhost:8080/",
          "height": 34
        },
        "outputId": "e07f2dca-cb86-40bf-b17f-797e1d5dfbd8"
      },
      "source": [
        "a = 'a'\n",
        "print(a)"
      ],
      "execution_count": 22,
      "outputs": [
        {
          "output_type": "stream",
          "text": [
            "a\n"
          ],
          "name": "stdout"
        }
      ]
    },
    {
      "cell_type": "markdown",
      "metadata": {
        "id": "CtnltAcbdl0a",
        "colab_type": "text"
      },
      "source": [
        "## Operators\n",
        "\n",
        "+ Addition (also string, tuple and list concatenation) <code>a + b</code>\n",
        "+ Subtraction (also set difference): <code>a - b</code>\n",
        "+ Multiplication (also string, tuple and list replication): <code>a * b</code>\n",
        "+ Division: <code>a / b</code>\n",
        "+ Truncated integer division (rounded towards minus infinity): <code>a // b</code>\n",
        "+ Modulus or remainder: <code>a % b</code>\n",
        "+ Exponentiation: <code>a ** b</code>\n",
        "+ Assignment: <code>=</code>, <code>-=</code>, <code>+=</code>,<code>/=</code>,<code>*=</code>, <code>%=</code>, <code>//=</code>, <code>**=</code>\n",
        "+ Boolean comparisons: <code>==</code>, <code>!=</code>, <code><</code>,<code>></code>,<code><=</code>, <code>>=</code>\n",
        "+ Boolean operators: <code>and</code>, <code>or</code>, <code>not</code>\n",
        "+ Membership test operators: <code>in</code>, <code>not in</code>\n",
        "+ Object identity operators: <code>is</code>, <code>is not</code>\n",
        "+ Bitwise operators (or, xor, and, complement): <code>|</code>, <code>^</code>, <code>&</code>, <code>~</code>\n",
        "+ Left and right bit shift: <code><<</code>, <code>>></code>"
      ]
    },
    {
      "cell_type": "markdown",
      "metadata": {
        "id": "fuYTmV9xdl0d",
        "colab_type": "text"
      },
      "source": [
        "### Python as a calculator\n",
        "\n",
        "The Python language has a concise notation for arithmetic that looks very much like the traditional one."
      ]
    },
    {
      "cell_type": "code",
      "metadata": {
        "id": "bGVxdWF0dl0e",
        "colab_type": "code",
        "colab": {
          "base_uri": "https://localhost:8080/",
          "height": 34
        },
        "outputId": "4694aff8-351b-47bc-8cc6-0dadb8979217"
      },
      "source": [
        "a = 3+2\n",
        "b= 3.5 * -8\n",
        "c = 10/6\n",
        "print(a, b, c, 10./6.)"
      ],
      "execution_count": 23,
      "outputs": [
        {
          "output_type": "stream",
          "text": [
            "5 -28.0 1.6666666666666667 1.6666666666666667\n"
          ],
          "name": "stdout"
        }
      ]
    },
    {
      "cell_type": "markdown",
      "metadata": {
        "id": "k1-jIS7Odl0g",
        "colab_type": "text"
      },
      "source": [
        "Some math functions are not available in the basic Python module, and they need to be imported from a specific module:"
      ]
    },
    {
      "cell_type": "code",
      "metadata": {
        "id": "coCJGpdndl0h",
        "colab_type": "code",
        "colab": {},
        "outputId": "35ae2698-2a50-4a3d-f47a-90c0933585cc"
      },
      "source": [
        "import math   # this instruction is not executed if the module has already been imported\n",
        "print(math.pi + math.sin(100) + math.ceil(2.3))"
      ],
      "execution_count": null,
      "outputs": [
        {
          "output_type": "stream",
          "text": [
            "5.635227012480034\n"
          ],
          "name": "stdout"
        }
      ]
    },
    {
      "cell_type": "markdown",
      "metadata": {
        "id": "UkfLL4wfdl0j",
        "colab_type": "text"
      },
      "source": [
        "### String processing with Python\n",
        "\n",
        "Strings are list of characters:"
      ]
    },
    {
      "cell_type": "code",
      "metadata": {
        "id": "FliJSU7rdl0k",
        "colab_type": "code",
        "colab": {},
        "outputId": "6f037b82-08bb-4406-a3a7-310ac4be7fa4"
      },
      "source": [
        "a = 'python'\n",
        "type(a)"
      ],
      "execution_count": null,
      "outputs": [
        {
          "output_type": "execute_result",
          "data": {
            "text/plain": [
              "str"
            ]
          },
          "metadata": {
            "tags": []
          },
          "execution_count": 63
        }
      ]
    },
    {
      "cell_type": "code",
      "metadata": {
        "id": "BuuTpdNxdl0n",
        "colab_type": "code",
        "colab": {},
        "outputId": "7edc8d18-179b-41d4-80c3-d5661cfc2e44"
      },
      "source": [
        "print(\"Hello\" )"
      ],
      "execution_count": null,
      "outputs": [
        {
          "output_type": "stream",
          "text": [
            "Hello\n"
          ],
          "name": "stdout"
        }
      ]
    },
    {
      "cell_type": "code",
      "metadata": {
        "id": "PcYAG_shdl0q",
        "colab_type": "code",
        "colab": {},
        "outputId": "d8af7ce2-c110-4dd2-9942-3310c8f99461"
      },
      "source": [
        "print(\"This is 'an example' of the use of quotes and double quotes\")\n",
        "print('This is \"another example\" of the use of quotes and double quotes')"
      ],
      "execution_count": null,
      "outputs": [
        {
          "output_type": "stream",
          "text": [
            "This is 'an example' of the use of quotes and double quotes\n",
            "This is \"another example\" of the use of quotes and double quotes\n"
          ],
          "name": "stdout"
        }
      ]
    },
    {
      "cell_type": "markdown",
      "metadata": {
        "id": "9feOHF_7dl0t",
        "colab_type": "text"
      },
      "source": [
        "We can use the operator ``+`` to concatenate strings:"
      ]
    },
    {
      "cell_type": "code",
      "metadata": {
        "id": "xa6Fxee1dl0u",
        "colab_type": "code",
        "colab": {},
        "outputId": "7dd58129-19e6-4520-c33e-30fe56b62643"
      },
      "source": [
        "a = 'He'\n",
        "b = 'llo'\n",
        "c = a+b+'!'\n",
        "print(c)"
      ],
      "execution_count": null,
      "outputs": [
        {
          "output_type": "stream",
          "text": [
            "Hello!\n"
          ],
          "name": "stdout"
        }
      ]
    },
    {
      "cell_type": "markdown",
      "metadata": {
        "id": "CvheOJr5dl0w",
        "colab_type": "text"
      },
      "source": [
        "Substrings within a string can be accessed using **slicing**. Slicing uses ``[]`` to contain the indices of the characters in a string, where the first index is $0$, and the last is $n - 1$ (assuming the string has $n$ characters). "
      ]
    },
    {
      "cell_type": "code",
      "metadata": {
        "id": "ZUGDNOrcdl0x",
        "colab_type": "code",
        "colab": {},
        "outputId": "c9be062d-79bd-4a33-f15e-eec758f583a7"
      },
      "source": [
        "a = 'Python'\n",
        "print(a[:], a[0], a[2:], a[:3], a[2:4], a[::2], a[1::2])"
      ],
      "execution_count": null,
      "outputs": [
        {
          "output_type": "stream",
          "text": [
            "Python P thon Pyt th Pto yhn\n"
          ],
          "name": "stdout"
        }
      ]
    },
    {
      "cell_type": "markdown",
      "metadata": {
        "id": "obz2lGTYdl0z",
        "colab_type": "text"
      },
      "source": [
        "You can insert the value of a certain variable in a string by using the format option of the pring function:"
      ]
    },
    {
      "cell_type": "code",
      "metadata": {
        "id": "epNqAdhQdl00",
        "colab_type": "code",
        "colab": {
          "base_uri": "https://localhost:8080/",
          "height": 34
        },
        "outputId": "ce837845-771b-4280-c5c0-4f13618e23d6"
      },
      "source": [
        "a= 99.99\n",
        "print('The value that takes variable a is {}'.format(a))"
      ],
      "execution_count": 25,
      "outputs": [
        {
          "output_type": "stream",
          "text": [
            "The value that takes variable a is 99.99\n"
          ],
          "name": "stdout"
        }
      ]
    },
    {
      "cell_type": "markdown",
      "metadata": {
        "id": "6e-Vxrzzdl1D",
        "colab_type": "text"
      },
      "source": [
        "### Conditionals\n",
        "\n",
        "The conditional structure in Python is **<code>If</code>**. It is usally combined with \n",
        "relational operators: <code> <, <=, ==, >=, >, != </code>."
      ]
    },
    {
      "cell_type": "code",
      "metadata": {
        "id": "Y5fqy2dedl1D",
        "colab_type": "code",
        "colab": {
          "base_uri": "https://localhost:8080/",
          "height": 51
        },
        "outputId": "91e4dfa3-a50f-4aac-9bb8-10ad51c5a360"
      },
      "source": [
        "def main(celsius):\n",
        "    fahrenheit = 9.0 /5.0 * celsius + 32\n",
        "    print(\"The temperature in Fahrenheit is\", fahrenheit)\n",
        "    if fahrenheit > 90:\n",
        "        print(\"It's really hot out there.\")\n",
        "    elif fahrenheit < 30:\n",
        "        print(\"It's really cold out there.\")\n",
        "    else: pass\n",
        "        \n",
        "main(35)"
      ],
      "execution_count": 28,
      "outputs": [
        {
          "output_type": "stream",
          "text": [
            "The temperature in Fahrenheit is 95.0\n",
            "It's really hot out there.\n"
          ],
          "name": "stdout"
        }
      ]
    },
    {
      "cell_type": "markdown",
      "metadata": {
        "id": "PW0iTamsdl1G",
        "colab_type": "text"
      },
      "source": [
        "### Boolean operators."
      ]
    },
    {
      "cell_type": "code",
      "metadata": {
        "id": "uRpyFtV7dl1H",
        "colab_type": "code",
        "colab": {
          "base_uri": "https://localhost:8080/",
          "height": 34
        },
        "outputId": "6c48650e-84f9-4920-fa2b-f2ebecd6b6ac"
      },
      "source": [
        "a = 4\n",
        "b = 40\n",
        "(a>2) and (b>30)"
      ],
      "execution_count": 29,
      "outputs": [
        {
          "output_type": "execute_result",
          "data": {
            "text/plain": [
              "True"
            ]
          },
          "metadata": {
            "tags": []
          },
          "execution_count": 29
        }
      ]
    },
    {
      "cell_type": "code",
      "metadata": {
        "id": "HNhep7HDdl1K",
        "colab_type": "code",
        "colab": {
          "base_uri": "https://localhost:8080/",
          "height": 34
        },
        "outputId": "cebe6b57-fd04-4f4a-b34e-1e7fbc03c9a5"
      },
      "source": [
        "(a>2) or (b>100)"
      ],
      "execution_count": 30,
      "outputs": [
        {
          "output_type": "execute_result",
          "data": {
            "text/plain": [
              "True"
            ]
          },
          "metadata": {
            "tags": []
          },
          "execution_count": 30
        }
      ]
    },
    {
      "cell_type": "code",
      "metadata": {
        "id": "a9TwBxbUdl1N",
        "colab_type": "code",
        "colab": {
          "base_uri": "https://localhost:8080/",
          "height": 34
        },
        "outputId": "ae131d31-57f8-45ae-e5d6-2b27a4fbf76f"
      },
      "source": [
        "not(a>2)"
      ],
      "execution_count": 31,
      "outputs": [
        {
          "output_type": "execute_result",
          "data": {
            "text/plain": [
              "False"
            ]
          },
          "metadata": {
            "tags": []
          },
          "execution_count": 31
        }
      ]
    },
    {
      "cell_type": "markdown",
      "metadata": {
        "id": "eo_OaRT9dl1P",
        "colab_type": "text"
      },
      "source": [
        "### Loops\n",
        "\n",
        "* For\n",
        "* While"
      ]
    },
    {
      "cell_type": "code",
      "metadata": {
        "id": "lG401eY0dl1Q",
        "colab_type": "code",
        "colab": {
          "base_uri": "https://localhost:8080/",
          "height": 187
        },
        "outputId": "368f823f-217d-48ef-8ab2-2ee23acc9ba7"
      },
      "source": [
        "for i in range(0,10,1):\n",
        "    print(i)"
      ],
      "execution_count": 32,
      "outputs": [
        {
          "output_type": "stream",
          "text": [
            "0\n",
            "1\n",
            "2\n",
            "3\n",
            "4\n",
            "5\n",
            "6\n",
            "7\n",
            "8\n",
            "9\n"
          ],
          "name": "stdout"
        }
      ]
    },
    {
      "cell_type": "code",
      "metadata": {
        "id": "sQEXRcBkdl1T",
        "colab_type": "code",
        "colab": {
          "base_uri": "https://localhost:8080/",
          "height": 187
        },
        "outputId": "785abe0b-c34f-4939-c7aa-e0356b40a56b"
      },
      "source": [
        "i=0\n",
        "while i < 10 :\n",
        "    print(i)\n",
        "    i= i+1"
      ],
      "execution_count": 33,
      "outputs": [
        {
          "output_type": "stream",
          "text": [
            "0\n",
            "1\n",
            "2\n",
            "3\n",
            "4\n",
            "5\n",
            "6\n",
            "7\n",
            "8\n",
            "9\n"
          ],
          "name": "stdout"
        }
      ]
    },
    {
      "cell_type": "code",
      "metadata": {
        "id": "rDZ_2Q0VmyKc",
        "colab_type": "code",
        "colab": {
          "base_uri": "https://localhost:8080/",
          "height": 68
        },
        "outputId": "e8f5c81f-4430-408d-e981-ab8a23284358"
      },
      "source": [
        "vector = [\"hola\",\"buenos\",\"dias\"]\n",
        "for palabra in vector:\n",
        "    print (palabra)"
      ],
      "execution_count": 37,
      "outputs": [
        {
          "output_type": "stream",
          "text": [
            "hola\n",
            "buenos\n",
            "dias\n"
          ],
          "name": "stdout"
        }
      ]
    },
    {
      "cell_type": "markdown",
      "metadata": {
        "id": "iFd3WsLCdl1W",
        "colab_type": "text"
      },
      "source": [
        "**``If``** statesments can be combined with **loops** (``for``, ``while``):"
      ]
    },
    {
      "cell_type": "code",
      "metadata": {
        "id": "n9SKr5cJdl1W",
        "colab_type": "code",
        "colab": {
          "base_uri": "https://localhost:8080/",
          "height": 34
        },
        "outputId": "e42926ca-27b4-46ce-d412-5df15fe969cc"
      },
      "source": [
        "numbers = [-5, 3,2,-1,9,6]\n",
        "total = 0\n",
        "\n",
        "for n in numbers:\n",
        "    if n >= 0:\n",
        "        total += n\n",
        "\n",
        "print(total)"
      ],
      "execution_count": 38,
      "outputs": [
        {
          "output_type": "stream",
          "text": [
            "20\n"
          ],
          "name": "stdout"
        }
      ]
    },
    {
      "cell_type": "code",
      "metadata": {
        "id": "qhBRt_qsdl1Z",
        "colab_type": "code",
        "colab": {
          "base_uri": "https://localhost:8080/",
          "height": 34
        },
        "outputId": "1b460117-b693-4cab-bd8d-3dc7b8747dc0"
      },
      "source": [
        "def average(a):\n",
        "    sum = 0.0\n",
        "    for i in a:\n",
        "        sum = sum + i\n",
        "    return sum/len(a)\n",
        "\n",
        "average([1,2,3,4])"
      ],
      "execution_count": 39,
      "outputs": [
        {
          "output_type": "execute_result",
          "data": {
            "text/plain": [
              "2.5"
            ]
          },
          "metadata": {
            "tags": []
          },
          "execution_count": 39
        }
      ]
    },
    {
      "cell_type": "code",
      "metadata": {
        "id": "gPNB-o1mdl1g",
        "colab_type": "code",
        "colab": {
          "base_uri": "https://localhost:8080/",
          "height": 34
        },
        "outputId": "3afd66fc-8c02-4ce6-a1db-28660bd59f77"
      },
      "source": [
        "def main(n):\n",
        "    cont = 0\n",
        "    while (int(n) > 0):\n",
        "        cont += 1\n",
        "        n = n/2\n",
        "#        print n\n",
        "    return cont-1\n",
        "\n",
        "main(10)\n",
        "# main(10.3)"
      ],
      "execution_count": 40,
      "outputs": [
        {
          "output_type": "execute_result",
          "data": {
            "text/plain": [
              "3"
            ]
          },
          "metadata": {
            "tags": []
          },
          "execution_count": 40
        }
      ]
    },
    {
      "cell_type": "markdown",
      "metadata": {
        "id": "KIi5dP-2dl1m",
        "colab_type": "text"
      },
      "source": [
        "## Data types\n",
        "\n",
        "We need to represent data collections: words in a text, students in a course, experimental data, etc., or to store intermediate results. The most simple data collection is the <code>list</code> (an ordered sequence of objects):"
      ]
    },
    {
      "cell_type": "markdown",
      "metadata": {
        "id": "DYElyXbBnfA6",
        "colab_type": "text"
      },
      "source": [
        "### Numpy Arrays\n",
        "\n",
        "In data analysis and machine learning, numerical data is often stored in a multidimensional matrix. It is convenient to manage numerical arayys with numpy:"
      ]
    },
    {
      "cell_type": "code",
      "metadata": {
        "id": "ZWNAZF2AnkWF",
        "colab_type": "code",
        "colab": {
          "base_uri": "https://localhost:8080/",
          "height": 561
        },
        "outputId": "979fbacd-e450-4562-e45f-9dde0883e3c7"
      },
      "source": [
        "import numpy as np\n",
        "\n",
        "x = np.array([[0, 1], [1, 1], [2, 2]])\n",
        "\n",
        "print(\"The matrix {}\".format(x))\n",
        "print(\"Alternate take: The Matrix = \" + str(x))\n",
        "\n",
        "print(\"Shape {}\".format(x.shape))\n",
        "\n",
        "print(\"Element at Row 0, column 0: {}\".format(x[0,0]))\n",
        "\n",
        "print(\"Selects the first column of the matrix {}\".format(x[:,0]))\n",
        "\n",
        "print(\"Selects the first row {}\".format(x[0,:]))\n",
        "\n",
        "print(\"Transposes the matrix {}\".format(x.transpose()))\n",
        "\n",
        "idx = np.where(x <= 1)\n",
        "print('indicates position that fulfills condition: {}'.format(idx))\n",
        "\n",
        "y = np.linspace(0,2,100)\n",
        "\n",
        "print(y.shape)\n",
        "print(y[-1])\n",
        "print(y.T)"
      ],
      "execution_count": 61,
      "outputs": [
        {
          "output_type": "stream",
          "text": [
            "The matrix [[0 1]\n",
            " [1 1]\n",
            " [2 2]]\n",
            "Alternate take: The Matrix = [[0 1]\n",
            " [1 1]\n",
            " [2 2]]\n",
            "Shape (3, 2)\n",
            "Element at Row 0, column 0: 0\n",
            "Selects the first column of the matrix [0 1 2]\n",
            "Selects the first row [0 1]\n",
            "Transposes the matrix [[0 1 2]\n",
            " [1 1 2]]\n",
            "indicates position that fulfills condition: (array([0, 0, 1, 1]), array([0, 1, 0, 1]))\n",
            "(100,)\n",
            "2.0\n",
            "[0.         0.02020202 0.04040404 0.06060606 0.08080808 0.1010101\n",
            " 0.12121212 0.14141414 0.16161616 0.18181818 0.2020202  0.22222222\n",
            " 0.24242424 0.26262626 0.28282828 0.3030303  0.32323232 0.34343434\n",
            " 0.36363636 0.38383838 0.4040404  0.42424242 0.44444444 0.46464646\n",
            " 0.48484848 0.50505051 0.52525253 0.54545455 0.56565657 0.58585859\n",
            " 0.60606061 0.62626263 0.64646465 0.66666667 0.68686869 0.70707071\n",
            " 0.72727273 0.74747475 0.76767677 0.78787879 0.80808081 0.82828283\n",
            " 0.84848485 0.86868687 0.88888889 0.90909091 0.92929293 0.94949495\n",
            " 0.96969697 0.98989899 1.01010101 1.03030303 1.05050505 1.07070707\n",
            " 1.09090909 1.11111111 1.13131313 1.15151515 1.17171717 1.19191919\n",
            " 1.21212121 1.23232323 1.25252525 1.27272727 1.29292929 1.31313131\n",
            " 1.33333333 1.35353535 1.37373737 1.39393939 1.41414141 1.43434343\n",
            " 1.45454545 1.47474747 1.49494949 1.51515152 1.53535354 1.55555556\n",
            " 1.57575758 1.5959596  1.61616162 1.63636364 1.65656566 1.67676768\n",
            " 1.6969697  1.71717172 1.73737374 1.75757576 1.77777778 1.7979798\n",
            " 1.81818182 1.83838384 1.85858586 1.87878788 1.8989899  1.91919192\n",
            " 1.93939394 1.95959596 1.97979798 2.        ]\n"
          ],
          "name": "stdout"
        }
      ]
    },
    {
      "cell_type": "markdown",
      "metadata": {
        "id": "82uIl2t7dl1m",
        "colab_type": "text"
      },
      "source": [
        "### Lists\n",
        "\n",
        "Lists are a built-in data type which require other data types to be useful. A list is a collection of other objects – floats, integers, complex numbers, strings or even other lists.\n",
        "\n",
        "Lists also support slicing to retrieve one or more elements. Basic lists are constructed using square braces, ``[]``, and values are separated using\n",
        "commas."
      ]
    },
    {
      "cell_type": "code",
      "metadata": {
        "id": "-Q9VNraudl1o",
        "colab_type": "code",
        "colab": {
          "base_uri": "https://localhost:8080/",
          "height": 34
        },
        "outputId": "0c895ea8-2be6-41c5-b492-d4ca635521e7"
      },
      "source": [
        "l=[]\n",
        "type(l)"
      ],
      "execution_count": 62,
      "outputs": [
        {
          "output_type": "execute_result",
          "data": {
            "text/plain": [
              "list"
            ]
          },
          "metadata": {
            "tags": []
          },
          "execution_count": 62
        }
      ]
    },
    {
      "cell_type": "code",
      "metadata": {
        "id": "_OzO02sYdl1u",
        "colab_type": "code",
        "colab": {
          "base_uri": "https://localhost:8080/",
          "height": 34
        },
        "outputId": "438aa9be-a4c3-45ec-d9e2-d78b573ff10c"
      },
      "source": [
        "x=[1,2,3,4,[1,2,3,4],'jordi']\n",
        "print(x[4:], x[0], x[5])"
      ],
      "execution_count": 63,
      "outputs": [
        {
          "output_type": "stream",
          "text": [
            "[[1, 2, 3, 4], 'jordi'] 1 jordi\n"
          ],
          "name": "stdout"
        }
      ]
    },
    {
      "cell_type": "code",
      "metadata": {
        "id": "AAzOnQPgdl12",
        "colab_type": "code",
        "colab": {
          "base_uri": "https://localhost:8080/",
          "height": 34
        },
        "outputId": "4fb71b9a-8b79-4e72-a099-a130a18dab28"
      },
      "source": [
        "x[-2:]  # The stride can also be negative which can be used to select the\n",
        "        # elements of a list in reverse order."
      ],
      "execution_count": 64,
      "outputs": [
        {
          "output_type": "execute_result",
          "data": {
            "text/plain": [
              "[[1, 2, 3, 4], 'jordi']"
            ]
          },
          "metadata": {
            "tags": []
          },
          "execution_count": 64
        }
      ]
    },
    {
      "cell_type": "markdown",
      "metadata": {
        "id": "wPN_SILEdl15",
        "colab_type": "text"
      },
      "source": [
        "Lists can be multidimensional and slicing can be done directly in higher dimensions:"
      ]
    },
    {
      "cell_type": "code",
      "metadata": {
        "id": "sCMAyFC5dl15",
        "colab_type": "code",
        "colab": {
          "base_uri": "https://localhost:8080/",
          "height": 34
        },
        "outputId": "bcd1aa4c-8e66-4aa5-f97a-03ab16b42d86"
      },
      "source": [
        "x = [[1,2,3,4], [5,6,7,8]]\n",
        "print(x[0], x[1][3])"
      ],
      "execution_count": 65,
      "outputs": [
        {
          "output_type": "stream",
          "text": [
            "[1, 2, 3, 4] 8\n"
          ],
          "name": "stdout"
        }
      ]
    },
    {
      "cell_type": "code",
      "metadata": {
        "id": "phORa37Wdl1-",
        "colab_type": "code",
        "colab": {
          "base_uri": "https://localhost:8080/",
          "height": 34
        },
        "outputId": "fc684acd-bc09-48a5-8c71-799997567cd4"
      },
      "source": [
        "\n",
        "list(range(10))\n"
      ],
      "execution_count": 66,
      "outputs": [
        {
          "output_type": "execute_result",
          "data": {
            "text/plain": [
              "[0, 1, 2, 3, 4, 5, 6, 7, 8, 9]"
            ]
          },
          "metadata": {
            "tags": []
          },
          "execution_count": 66
        }
      ]
    },
    {
      "cell_type": "code",
      "metadata": {
        "id": "dN-CvT01dl2B",
        "colab_type": "code",
        "colab": {
          "base_uri": "https://localhost:8080/",
          "height": 34
        },
        "outputId": "327377a6-a3d0-45f6-dd3f-5ec4c3cf833c"
      },
      "source": [
        "b = \"This is an example\".split()\n",
        "print(b)"
      ],
      "execution_count": 67,
      "outputs": [
        {
          "output_type": "stream",
          "text": [
            "['This', 'is', 'an', 'example']\n"
          ],
          "name": "stdout"
        }
      ]
    },
    {
      "cell_type": "markdown",
      "metadata": {
        "id": "BrfrWqpXdl2E",
        "colab_type": "text"
      },
      "source": [
        "A list is an *ordered, mutable and dynamic* collection of *non-homogeneous* objects:"
      ]
    },
    {
      "cell_type": "code",
      "metadata": {
        "id": "-pBHylUTdl2E",
        "colab_type": "code",
        "colab": {
          "base_uri": "https://localhost:8080/",
          "height": 34
        },
        "outputId": "079d9612-79d0-44b7-a5f4-ef30971ee4e9"
      },
      "source": [
        "a = [1,2,3,4]\n",
        "a[1] = 7\n",
        "print(a)"
      ],
      "execution_count": 68,
      "outputs": [
        {
          "output_type": "stream",
          "text": [
            "[1, 7, 3, 4]\n"
          ],
          "name": "stdout"
        }
      ]
    },
    {
      "cell_type": "code",
      "metadata": {
        "id": "c7x6vSVfdl2J",
        "colab_type": "code",
        "colab": {
          "base_uri": "https://localhost:8080/",
          "height": 34
        },
        "outputId": "56613f25-3b94-498c-cbc3-054f4ad611fa"
      },
      "source": [
        "c = a + b\n",
        "print(c)"
      ],
      "execution_count": 69,
      "outputs": [
        {
          "output_type": "stream",
          "text": [
            "[1, 7, 3, 4, 'This', 'is', 'an', 'example']\n"
          ],
          "name": "stdout"
        }
      ]
    },
    {
      "cell_type": "code",
      "metadata": {
        "id": "qU1TP1OMdl2N",
        "colab_type": "code",
        "colab": {
          "base_uri": "https://localhost:8080/",
          "height": 34
        },
        "outputId": "63a809ed-1244-4b82-9a15-4e810be5cf8a"
      },
      "source": [
        "zeroes = [0] * 10\n",
        "del zeroes[5:]\n",
        "print(zeroes)"
      ],
      "execution_count": 70,
      "outputs": [
        {
          "output_type": "stream",
          "text": [
            "[0, 0, 0, 0, 0]\n"
          ],
          "name": "stdout"
        }
      ]
    },
    {
      "cell_type": "code",
      "metadata": {
        "id": "QSCKkt5ndl2P",
        "colab_type": "code",
        "colab": {
          "base_uri": "https://localhost:8080/",
          "height": 34
        },
        "outputId": "e9b51a30-a894-41e8-b693-74def07ed0f3"
      },
      "source": [
        "zeroes.append(1)\n",
        "print(zeroes)"
      ],
      "execution_count": 71,
      "outputs": [
        {
          "output_type": "stream",
          "text": [
            "[0, 0, 0, 0, 0, 1]\n"
          ],
          "name": "stdout"
        }
      ]
    },
    {
      "cell_type": "code",
      "metadata": {
        "id": "SoE5M_zndl2W",
        "colab_type": "code",
        "colab": {
          "base_uri": "https://localhost:8080/",
          "height": 34
        },
        "outputId": "ea141e5e-05df-47f4-9687-23c136889bbd"
      },
      "source": [
        "zeroes.remove(1)\n",
        "print(zeroes)"
      ],
      "execution_count": 72,
      "outputs": [
        {
          "output_type": "stream",
          "text": [
            "[0, 0, 0, 0, 0]\n"
          ],
          "name": "stdout"
        }
      ]
    },
    {
      "cell_type": "code",
      "metadata": {
        "id": "saTLOV5Ddl2Y",
        "colab_type": "code",
        "colab": {
          "base_uri": "https://localhost:8080/",
          "height": 34
        },
        "outputId": "c398a792-1eba-43eb-d264-ed10acc8567c"
      },
      "source": [
        "if 1 in zeroes:\n",
        "    print(False)\n",
        "else: \n",
        "    print(True)"
      ],
      "execution_count": 73,
      "outputs": [
        {
          "output_type": "stream",
          "text": [
            "True\n"
          ],
          "name": "stdout"
        }
      ]
    },
    {
      "cell_type": "markdown",
      "metadata": {
        "id": "nYuo1DJ3dl2b",
        "colab_type": "text"
      },
      "source": [
        "### Dictionaries\n",
        "\n",
        "A dictionary is a collection that allows the access of an *element* by using a *key*:"
      ]
    },
    {
      "cell_type": "code",
      "metadata": {
        "id": "2oMQBLs0dl2c",
        "colab_type": "code",
        "colab": {
          "base_uri": "https://localhost:8080/",
          "height": 35
        },
        "outputId": "65b26f34-4eca-45e4-a5c0-c6f126989947"
      },
      "source": [
        "dict = {\"d\": \"D\", \"b\":\"B\", \"c\":\"C\"}\n",
        "dict[\"d\"]"
      ],
      "execution_count": 74,
      "outputs": [
        {
          "output_type": "execute_result",
          "data": {
            "application/vnd.google.colaboratory.intrinsic+json": {
              "type": "string"
            },
            "text/plain": [
              "'D'"
            ]
          },
          "metadata": {
            "tags": []
          },
          "execution_count": 74
        }
      ]
    },
    {
      "cell_type": "markdown",
      "metadata": {
        "id": "JfQZxTyZdl2h",
        "colab_type": "text"
      },
      "source": [
        "Dictionaries are *mutable, dynamic* and *unordered*:"
      ]
    },
    {
      "cell_type": "code",
      "metadata": {
        "id": "VW2jxJiadl2i",
        "colab_type": "code",
        "colab": {
          "base_uri": "https://localhost:8080/",
          "height": 34
        },
        "outputId": "a2c47477-536a-4647-9844-db6b42a78dda"
      },
      "source": [
        "dict[\"a\"]=\"A\"\n",
        "dict"
      ],
      "execution_count": 75,
      "outputs": [
        {
          "output_type": "execute_result",
          "data": {
            "text/plain": [
              "{'a': 'A', 'b': 'B', 'c': 'C', 'd': 'D'}"
            ]
          },
          "metadata": {
            "tags": []
          },
          "execution_count": 75
        }
      ]
    },
    {
      "cell_type": "code",
      "metadata": {
        "id": "iOrw7F9Tdl2n",
        "colab_type": "code",
        "colab": {
          "base_uri": "https://localhost:8080/",
          "height": 34
        },
        "outputId": "2981e3ad-e148-4482-d4f5-4e0a1fea0977"
      },
      "source": [
        "\"a\" in dict"
      ],
      "execution_count": 76,
      "outputs": [
        {
          "output_type": "execute_result",
          "data": {
            "text/plain": [
              "True"
            ]
          },
          "metadata": {
            "tags": []
          },
          "execution_count": 76
        }
      ]
    },
    {
      "cell_type": "code",
      "metadata": {
        "id": "NKvwmXyUdl2r",
        "colab_type": "code",
        "colab": {
          "base_uri": "https://localhost:8080/",
          "height": 34
        },
        "outputId": "a1a6389a-9a05-4884-88df-0a136c7d1ca4"
      },
      "source": [
        "del dict[\"a\"]\n",
        "print(dict)"
      ],
      "execution_count": 77,
      "outputs": [
        {
          "output_type": "stream",
          "text": [
            "{'d': 'D', 'b': 'B', 'c': 'C'}\n"
          ],
          "name": "stdout"
        }
      ]
    },
    {
      "cell_type": "code",
      "metadata": {
        "id": "fO9uRKbndl2t",
        "colab_type": "code",
        "colab": {
          "base_uri": "https://localhost:8080/",
          "height": 34
        },
        "outputId": "53eb837f-3551-4abb-eb62-2e3bfd26410a"
      },
      "source": [
        "dict = {\"d\": \"D\", \"b\":\"B\", \"c\":\"C\"}\n",
        "dict.items()"
      ],
      "execution_count": 78,
      "outputs": [
        {
          "output_type": "execute_result",
          "data": {
            "text/plain": [
              "dict_items([('d', 'D'), ('b', 'B'), ('c', 'C')])"
            ]
          },
          "metadata": {
            "tags": []
          },
          "execution_count": 78
        }
      ]
    },
    {
      "cell_type": "markdown",
      "metadata": {
        "id": "I8CrKFMVdl2w",
        "colab_type": "text"
      },
      "source": [
        "### Tuples\n",
        "\n",
        "Tuples are **non-mutable** lists:"
      ]
    },
    {
      "cell_type": "code",
      "metadata": {
        "id": "i8enwS1Fdl2x",
        "colab_type": "code",
        "colab": {
          "base_uri": "https://localhost:8080/",
          "height": 34
        },
        "outputId": "fe830ed5-8a9e-4fd9-a157-096fcd7f1597"
      },
      "source": [
        "tup = ('a', 'b', 'c')\n",
        "print(type(tup), tup[1:3])"
      ],
      "execution_count": 79,
      "outputs": [
        {
          "output_type": "stream",
          "text": [
            "<class 'tuple'> ('b', 'c')\n"
          ],
          "name": "stdout"
        }
      ]
    },
    {
      "cell_type": "code",
      "metadata": {
        "id": "l0JS42xCdl2z",
        "colab_type": "code",
        "colab": {
          "base_uri": "https://localhost:8080/",
          "height": 164
        },
        "outputId": "6c76f4cb-cbb6-42fb-d7c5-873cc7c4c1d5"
      },
      "source": [
        "tup[0]='d'"
      ],
      "execution_count": 80,
      "outputs": [
        {
          "output_type": "error",
          "ename": "TypeError",
          "evalue": "ignored",
          "traceback": [
            "\u001b[0;31m---------------------------------------------------------------------------\u001b[0m",
            "\u001b[0;31mTypeError\u001b[0m                                 Traceback (most recent call last)",
            "\u001b[0;32m<ipython-input-80-e43c22bd0fba>\u001b[0m in \u001b[0;36m<module>\u001b[0;34m()\u001b[0m\n\u001b[0;32m----> 1\u001b[0;31m \u001b[0mtup\u001b[0m\u001b[0;34m[\u001b[0m\u001b[0;36m0\u001b[0m\u001b[0;34m]\u001b[0m\u001b[0;34m=\u001b[0m\u001b[0;34m'd'\u001b[0m\u001b[0;34m\u001b[0m\u001b[0;34m\u001b[0m\u001b[0m\n\u001b[0m",
            "\u001b[0;31mTypeError\u001b[0m: 'tuple' object does not support item assignment"
          ]
        }
      ]
    },
    {
      "cell_type": "markdown",
      "metadata": {
        "id": "Liz1Twcadl23",
        "colab_type": "text"
      },
      "source": [
        "## A program in Python\n",
        "\n",
        "General Rules:\n",
        "\n",
        "+ All text from a <code>#</code> simbol to the end of a line are considered as comments.\n",
        "+ Code must be **indented** and sometimes delineated by colons. The Python standard for indentation is four spaces. Never use tabs: it can produce hard to find errors. Set you editor to convert tabs to spaces.\n",
        "+ Typically, a statement must be on a line. You can use a backslash <code>\\</code> at the end of a line to continue a statement on to the next line.\n"
      ]
    },
    {
      "cell_type": "code",
      "metadata": {
        "id": "En5-bYq6dl24",
        "colab_type": "code",
        "colab": {
          "base_uri": "https://localhost:8080/",
          "height": 54
        },
        "outputId": "c0257c51-6401-4395-bb34-7b12fcdcf3cf"
      },
      "source": [
        "# This program computes the factorial of 100.\n",
        "\n",
        "fact = 1\n",
        "n= 100\n",
        "for factor in range(n,0,-1):\n",
        "    fact = fact * factor \n",
        "print(fact)    "
      ],
      "execution_count": 81,
      "outputs": [
        {
          "output_type": "stream",
          "text": [
            "93326215443944152681699238856266700490715968264381621468592963895217599993229915608941463976156518286253697920827223758251185210916864000000000000000000000000\n"
          ],
          "name": "stdout"
        }
      ]
    },
    {
      "cell_type": "code",
      "metadata": {
        "id": "Lf8_x0Hudl27",
        "colab_type": "code",
        "colab": {
          "base_uri": "https://localhost:8080/",
          "height": 34
        },
        "outputId": "5724207f-d90a-4e94-b3cc-213dcc0b25c3"
      },
      "source": [
        "list(range(10,0,-1))"
      ],
      "execution_count": 82,
      "outputs": [
        {
          "output_type": "execute_result",
          "data": {
            "text/plain": [
              "[10, 9, 8, 7, 6, 5, 4, 3, 2, 1]"
            ]
          },
          "metadata": {
            "tags": []
          },
          "execution_count": 82
        }
      ]
    },
    {
      "cell_type": "markdown",
      "metadata": {
        "id": "Q5OyZdVVdl2_",
        "colab_type": "text"
      },
      "source": [
        "<div class=\"alert alert-error\"> When we write a colon at the end of an iteration, all lines indented at the next level are considered *part* of the iteration. \n",
        "\n",
        "When we write a line at the same indentation as the iteration, we are closing the iteration.</div>"
      ]
    },
    {
      "cell_type": "markdown",
      "metadata": {
        "id": "gMauJicxdl2_",
        "colab_type": "text"
      },
      "source": [
        "## References\n",
        "\n",
        "We can inspect the reference of an object:"
      ]
    },
    {
      "cell_type": "code",
      "metadata": {
        "id": "7EdCt1i3dl2_",
        "colab_type": "code",
        "colab": {
          "base_uri": "https://localhost:8080/",
          "height": 34
        },
        "outputId": "ba73b6b8-fcbc-4f06-ec4c-057b16f0ffff"
      },
      "source": [
        "a ='hello'\n",
        "print(id(a))"
      ],
      "execution_count": 83,
      "outputs": [
        {
          "output_type": "stream",
          "text": [
            "140150831202744\n"
          ],
          "name": "stdout"
        }
      ]
    },
    {
      "cell_type": "markdown",
      "metadata": {
        "id": "gtZC2ed6dl3C",
        "colab_type": "text"
      },
      "source": [
        "Two different objects:"
      ]
    },
    {
      "cell_type": "code",
      "metadata": {
        "id": "3SmlgvbDdl3D",
        "colab_type": "code",
        "colab": {
          "base_uri": "https://localhost:8080/",
          "height": 68
        },
        "outputId": "fe494d05-2ae0-4991-ad1e-d23e038dfb98"
      },
      "source": [
        "a = [1,2,3]\n",
        "b = [1,2,3]\n",
        "print(id(a), id(b))\n",
        "print (a is b)\n",
        "print (a == b)"
      ],
      "execution_count": 84,
      "outputs": [
        {
          "output_type": "stream",
          "text": [
            "140150831209544 140150831233480\n",
            "False\n",
            "True\n"
          ],
          "name": "stdout"
        }
      ]
    },
    {
      "cell_type": "markdown",
      "metadata": {
        "id": "uEyyEmG_dl3F",
        "colab_type": "text"
      },
      "source": [
        "Object alias:"
      ]
    },
    {
      "cell_type": "code",
      "metadata": {
        "id": "BFK72h6qdl3F",
        "colab_type": "code",
        "colab": {
          "base_uri": "https://localhost:8080/",
          "height": 34
        },
        "outputId": "d2825b9e-ff52-4f5a-8191-f629364f86df"
      },
      "source": [
        "a = [1,2,3]\n",
        "b = a                     # alias\n",
        "print(id(a), id(b))"
      ],
      "execution_count": 85,
      "outputs": [
        {
          "output_type": "stream",
          "text": [
            "140150831184648 140150831184648\n"
          ],
          "name": "stdout"
        }
      ]
    },
    {
      "cell_type": "markdown",
      "metadata": {
        "id": "wXHq62Pldl3K",
        "colab_type": "text"
      },
      "source": [
        "Cloning:"
      ]
    },
    {
      "cell_type": "code",
      "metadata": {
        "id": "fdofGnoZdl3K",
        "colab_type": "code",
        "colab": {
          "base_uri": "https://localhost:8080/",
          "height": 34
        },
        "outputId": "5cf643f7-1aad-43b3-e00f-0bcc77f79e31"
      },
      "source": [
        "a = [1,2,3]\n",
        "b = a[:]                  # cloning with :\n",
        "\n",
        "print(a, b, b[1:], id(a), id(b), id(b[1:]))"
      ],
      "execution_count": 86,
      "outputs": [
        {
          "output_type": "stream",
          "text": [
            "[1, 2, 3] [1, 2, 3] [2, 3] 140150831210376 140150831233480 140150831233416\n"
          ],
          "name": "stdout"
        }
      ]
    },
    {
      "cell_type": "markdown",
      "metadata": {
        "id": "BIooUYwMdl3M",
        "colab_type": "text"
      },
      "source": [
        "When a list is an argument of a function, we are sending the *reference*, not a *copy*"
      ]
    },
    {
      "cell_type": "markdown",
      "metadata": {
        "id": "85ceL4d3dl3N",
        "colab_type": "text"
      },
      "source": [
        "## Functions\n",
        "\n",
        "To create a function, use def. "
      ]
    },
    {
      "cell_type": "code",
      "metadata": {
        "id": "_HJVHYTkdl3N",
        "colab_type": "code",
        "colab": {
          "base_uri": "https://localhost:8080/",
          "height": 34
        },
        "outputId": "59a76f06-751a-4d17-ad6e-71b1cfe2ef0f"
      },
      "source": [
        "def head(list):     #parameters separated by comma\n",
        "    return list[0]  #Identation means inside functions\n",
        "\n",
        "numbers=[1,2,3,4]\n",
        "print(head(numbers), numbers)"
      ],
      "execution_count": 87,
      "outputs": [
        {
          "output_type": "stream",
          "text": [
            "1 [1, 2, 3, 4]\n"
          ],
          "name": "stdout"
        }
      ]
    },
    {
      "cell_type": "code",
      "metadata": {
        "id": "aK6N9yAPdl3T",
        "colab_type": "code",
        "colab": {
          "base_uri": "https://localhost:8080/",
          "height": 34
        },
        "outputId": "7d3c0445-dafe-471c-94a0-e3dfc20d990d"
      },
      "source": [
        "def change_first_element(list):\n",
        "    list[0]=0 #it returns none!\n",
        "\n",
        "numbers=[1,2,3,4]\n",
        "change_first_element(numbers)\n",
        "print(numbers)"
      ],
      "execution_count": 88,
      "outputs": [
        {
          "output_type": "stream",
          "text": [
            "[0, 2, 3, 4]\n"
          ],
          "name": "stdout"
        }
      ]
    },
    {
      "cell_type": "markdown",
      "metadata": {
        "id": "o29U4hNHdl3b",
        "colab_type": "text"
      },
      "source": [
        "If we return a list we are returning a reference:"
      ]
    },
    {
      "cell_type": "code",
      "metadata": {
        "id": "PjYTIRMJdl3b",
        "colab_type": "code",
        "colab": {
          "base_uri": "https://localhost:8080/",
          "height": 51
        },
        "outputId": "d68571b5-8b6f-4cd7-d53f-7a643eddbbbf"
      },
      "source": [
        "def tail(list):\n",
        "    return list[1:]     # we are creating a new list\n",
        "\n",
        "numbers=[1,2,3,4]\n",
        "rest = tail(numbers)\n",
        "print(rest, numbers)\n",
        "print(id(rest), id(numbers))"
      ],
      "execution_count": 89,
      "outputs": [
        {
          "output_type": "stream",
          "text": [
            "[2, 3, 4] [1, 2, 3, 4]\n",
            "140150831115592 140150831183752\n"
          ],
          "name": "stdout"
        }
      ]
    },
    {
      "cell_type": "code",
      "metadata": {
        "id": "FPgAfgwwdl3f",
        "colab_type": "code",
        "colab": {
          "base_uri": "https://localhost:8080/",
          "height": 34
        },
        "outputId": "5b766179-819e-4e4e-bcad-4af64c35c03e"
      },
      "source": [
        "# Press tab\n",
        "numbers.reverse()\n",
        "print(numbers)"
      ],
      "execution_count": 90,
      "outputs": [
        {
          "output_type": "stream",
          "text": [
            "[4, 3, 2, 1]\n"
          ],
          "name": "stdout"
        }
      ]
    },
    {
      "cell_type": "markdown",
      "metadata": {
        "id": "EKSnMkiydl3i",
        "colab_type": "text"
      },
      "source": [
        "Sometimes it is important to perform a *sanity check* about what is doing a pre-defined function:"
      ]
    },
    {
      "cell_type": "code",
      "metadata": {
        "id": "uj3JtoP3dl3i",
        "colab_type": "code",
        "colab": {
          "base_uri": "https://localhost:8080/",
          "height": 51
        },
        "outputId": "53ee37c3-9272-40bb-ab80-6e321aedf1fb"
      },
      "source": [
        "numbers=[1,2,3,4]\n",
        "def test(l):\n",
        "    return l.reverse() #Reverse return NONE! \n",
        "print(numbers)\n",
        "print(numbers, test(numbers)) #Reverses changes the list INPLACE if we don't make a copy we will  alter the original numbers "
      ],
      "execution_count": 91,
      "outputs": [
        {
          "output_type": "stream",
          "text": [
            "[1, 2, 3, 4]\n",
            "[4, 3, 2, 1] None\n"
          ],
          "name": "stdout"
        }
      ]
    },
    {
      "cell_type": "code",
      "metadata": {
        "id": "HAhIqsiRdl3k",
        "colab_type": "code",
        "colab": {
          "base_uri": "https://localhost:8080/",
          "height": 51
        },
        "outputId": "6a15fc74-efb0-4b85-ae29-66ddd551336c"
      },
      "source": [
        "numbers=[1,2,3,4]\n",
        "\n",
        "def test(l):\n",
        "    l.reverse() #Reverse changes the list INPLACE, if we don't make a copy we will  alter the original numbers \n",
        "    return l\n",
        "\n",
        "print(numbers, test(numbers))\n",
        "print(id(numbers), id(test(numbers)))"
      ],
      "execution_count": 92,
      "outputs": [
        {
          "output_type": "stream",
          "text": [
            "[4, 3, 2, 1] [4, 3, 2, 1]\n",
            "140150831228040 140150831228040\n"
          ],
          "name": "stdout"
        }
      ]
    },
    {
      "cell_type": "code",
      "metadata": {
        "id": "oCCe6_gRdl3q",
        "colab_type": "code",
        "colab": {
          "base_uri": "https://localhost:8080/",
          "height": 51
        },
        "outputId": "3b0f6646-8f26-4654-e1c6-49a586c83212"
      },
      "source": [
        "numbers=[1,2,3,4]\n",
        "\n",
        "def test(l):\n",
        "    a=l[:]\n",
        "    l.reverse() #Reverse changes the list INPLACE, if we don't make a copy we will alter the original numbers \n",
        "    return a\n",
        "\n",
        "print(numbers, test(numbers))\n",
        "print(id(numbers), id(test(numbers)))"
      ],
      "execution_count": 93,
      "outputs": [
        {
          "output_type": "stream",
          "text": [
            "[4, 3, 2, 1] [1, 2, 3, 4]\n",
            "140150831227400 140150831229192\n"
          ],
          "name": "stdout"
        }
      ]
    },
    {
      "cell_type": "code",
      "metadata": {
        "id": "IrDOLC1qdl3t",
        "colab_type": "code",
        "colab": {}
      },
      "source": [
        "?list.reverse"
      ],
      "execution_count": 95,
      "outputs": []
    },
    {
      "cell_type": "markdown",
      "metadata": {
        "id": "lPJi6WFtdl3v",
        "colab_type": "text"
      },
      "source": [
        "## Algorithms in Python \n"
      ]
    },
    {
      "cell_type": "markdown",
      "metadata": {
        "id": "bQWrXm2Pdl3w",
        "colab_type": "text"
      },
      "source": [
        "#### Factorial\n",
        "\n",
        "The factorial of a non-negative integer $n$, denoted by $n!$, is the product of all positive integers less than or equal to $n$.  "
      ]
    },
    {
      "cell_type": "code",
      "metadata": {
        "id": "os0UmDEhdl3w",
        "colab_type": "code",
        "colab": {}
      },
      "source": [
        "def factorial(n):\n",
        "    fact = 1\n",
        "    for factor in range(n,0,-1):\n",
        "        fact = fact * factor\n",
        "    return fact"
      ],
      "execution_count": 96,
      "outputs": []
    },
    {
      "cell_type": "code",
      "metadata": {
        "id": "l54RbzYjdl3z",
        "colab_type": "code",
        "colab": {
          "base_uri": "https://localhost:8080/",
          "height": 54
        },
        "outputId": "a9b73a62-c69f-4282-d52f-69e970ff45d6"
      },
      "source": [
        "factorial(100)"
      ],
      "execution_count": 97,
      "outputs": [
        {
          "output_type": "execute_result",
          "data": {
            "text/plain": [
              "93326215443944152681699238856266700490715968264381621468592963895217599993229915608941463976156518286253697920827223758251185210916864000000000000000000000000"
            ]
          },
          "metadata": {
            "tags": []
          },
          "execution_count": 97
        }
      ]
    },
    {
      "cell_type": "markdown",
      "metadata": {
        "id": "9SGA6En5dl34",
        "colab_type": "text"
      },
      "source": [
        "#### Fibonacci\n",
        "\n",
        "The Fibonacci Sequence is the series of numbers: 0, 1, 1, 2, 3, 5, 8, 13, 21, 34, ...\n",
        "\n",
        "The general rule to compute the sequence is very simple: The next number is found by adding up the two numbers before it."
      ]
    },
    {
      "cell_type": "code",
      "metadata": {
        "id": "pyurlPwldl35",
        "colab_type": "code",
        "colab": {
          "base_uri": "https://localhost:8080/",
          "height": 34
        },
        "outputId": "1e467cca-2d58-4019-d739-5281922103af"
      },
      "source": [
        "def fib1(n):\n",
        "    if n==1:\n",
        "        return 1\n",
        "    if n==0:\n",
        "        return 0\n",
        "    return fib1(n-1) + fib1(n-2)\n",
        "\n",
        "fib1(20)\n",
        "\n",
        "# this function cannot compute fib(100)"
      ],
      "execution_count": 98,
      "outputs": [
        {
          "output_type": "execute_result",
          "data": {
            "text/plain": [
              "6765"
            ]
          },
          "metadata": {
            "tags": []
          },
          "execution_count": 98
        }
      ]
    },
    {
      "cell_type": "code",
      "metadata": {
        "id": "CsOrs_kwdl3_",
        "colab_type": "code",
        "colab": {
          "base_uri": "https://localhost:8080/",
          "height": 54
        },
        "outputId": "a22a8b7b-7e94-41ca-d30b-d01c301fb89c"
      },
      "source": [
        "def fib2(n):\n",
        "    a, b = 0, 1\n",
        "    for i in range(1,n+1):\n",
        "        a, b = b, a + b\n",
        "    return a\n",
        "\n",
        "n = 1000\n",
        "if n<15:\n",
        "    print(fib1(n))\n",
        "else: \n",
        "    print(fib2(n))"
      ],
      "execution_count": 99,
      "outputs": [
        {
          "output_type": "stream",
          "text": [
            "43466557686937456435688527675040625802564660517371780402481729089536555417949051890403879840079255169295922593080322634775209689623239873322471161642996440906533187938298969649928516003704476137795166849228875\n"
          ],
          "name": "stdout"
        }
      ]
    },
    {
      "cell_type": "markdown",
      "metadata": {
        "id": "nfG-Ti8-dl4C",
        "colab_type": "text"
      },
      "source": [
        "#### Greatest Common Divisor\n",
        "\n",
        "The greatest common divisor of two positive integers $a$ and $b$ is the largest divisor common to $a$ and $b$.  The Euclidean algorithm, or Euclid's algorithm, is an interative method for computing the greatest common divisor of two integers. \n",
        "\n",
        "+ If $a<b$, exchange $a$ and $b$.\n",
        "+ Divide $a$ by $b$ and get the remainder, $r$. If $r=0$, report $b$ as the GCD of $a$ and $b$.\n",
        "+ Replace $a$ by $b$ and replace $b$ by $r$. If $r \\neq 0$ iterate.\n",
        "\n"
      ]
    },
    {
      "cell_type": "code",
      "metadata": {
        "id": "-7-Kqau7dl4C",
        "colab_type": "code",
        "colab": {
          "base_uri": "https://localhost:8080/",
          "height": 34
        },
        "outputId": "e69f4b7b-ed36-41fa-ea0e-1d78b9d733e5"
      },
      "source": [
        "def gcd(a,b): # Euclides algorithm v1.0: pseudocode translation\n",
        "    r = 1\n",
        "    while r != 0:\n",
        "        if a<b:\n",
        "            c=a\n",
        "            a=b\n",
        "            b=c\n",
        "        r = a%b \n",
        "        if r == 0:\n",
        "            return b\n",
        "        else:\n",
        "            a = b\n",
        "            b = r\n",
        "\n",
        "gcd(100,16)"
      ],
      "execution_count": 100,
      "outputs": [
        {
          "output_type": "execute_result",
          "data": {
            "text/plain": [
              "4"
            ]
          },
          "metadata": {
            "tags": []
          },
          "execution_count": 100
        }
      ]
    },
    {
      "cell_type": "code",
      "metadata": {
        "id": "ciuMGegPdl4F",
        "colab_type": "code",
        "colab": {
          "base_uri": "https://localhost:8080/",
          "height": 34
        },
        "outputId": "6224b461-116e-4ad8-d0d2-59c1195bd0e9"
      },
      "source": [
        "def gcd(a,b):   # Euclides algorithm v2.0: idiomatic Python\n",
        "    while a:\n",
        "        a, b = b%a, a\n",
        "    return b\n",
        "\n",
        "gcd(100,16)"
      ],
      "execution_count": 101,
      "outputs": [
        {
          "output_type": "execute_result",
          "data": {
            "text/plain": [
              "4"
            ]
          },
          "metadata": {
            "tags": []
          },
          "execution_count": 101
        }
      ]
    },
    {
      "cell_type": "code",
      "metadata": {
        "id": "Wysiems1dl4G",
        "colab_type": "code",
        "colab": {
          "base_uri": "https://localhost:8080/",
          "height": 34
        },
        "outputId": "8a8268bd-2a33-49a4-b2b7-97345244982b"
      },
      "source": [
        "a = 0\n",
        "a == False"
      ],
      "execution_count": 102,
      "outputs": [
        {
          "output_type": "execute_result",
          "data": {
            "text/plain": [
              "True"
            ]
          },
          "metadata": {
            "tags": []
          },
          "execution_count": 102
        }
      ]
    },
    {
      "cell_type": "markdown",
      "metadata": {
        "id": "peEEHopOqFYb",
        "colab_type": "text"
      },
      "source": [
        "## Reading and handling data\n",
        "\n",
        "Since we are going to deal with a wide range of data types (text, numerical arrays, images, etc.). \n",
        "\n",
        "When working with google colab, the first thing you need to do is to grant access to the files in your google drive:\n"
      ]
    },
    {
      "cell_type": "code",
      "metadata": {
        "id": "F10XBb-3rvJM",
        "colab_type": "code",
        "colab": {
          "base_uri": "https://localhost:8080/",
          "height": 34
        },
        "outputId": "9be0b1ac-624d-4228-f44c-5ee7be0bda7c"
      },
      "source": [
        "from google.colab import drive \n",
        "drive.mount('/content/gdrive')"
      ],
      "execution_count": 2,
      "outputs": [
        {
          "output_type": "stream",
          "text": [
            "Mounted at /content/gdrive\n"
          ],
          "name": "stdout"
        }
      ]
    },
    {
      "cell_type": "markdown",
      "metadata": {
        "id": "8pUjkV6hr6Ww",
        "colab_type": "text"
      },
      "source": [
        "Once you have access to your google drive, the files are available at the folder /content/gdrive. In order to list the folders in the root your drive use the listdir function from the os library:"
      ]
    },
    {
      "cell_type": "code",
      "metadata": {
        "id": "6Phb-19B0CEx",
        "colab_type": "code",
        "colab": {
          "base_uri": "https://localhost:8080/",
          "height": 1000
        },
        "outputId": "c72c6894-02dc-472b-9796-b5e965bbabdd"
      },
      "source": [
        "import os\n",
        "\n",
        "root_folder = '/content/gdrive/My Drive/'\n",
        "\n",
        "for kdirs in os.listdir(root_folder):\n",
        "    if os.path.isdir(os.path.join(root_folder, kdirs)):\n",
        "        print(kdirs)"
      ],
      "execution_count": 12,
      "outputs": [
        {
          "output_type": "stream",
          "text": [
            "MEC_Justificacion_2010-2012\n",
            "PRACTIQUES PIBB\n",
            "Practica UOC 2014\n",
            "Raul-Codigo\n",
            "documentacio_ALSTOM\n",
            "docs organitzacio\n",
            "PLANNING COURSE\n",
            "RAUL\n",
            "SGR2017\n",
            "MEC2018\n",
            "IA Avançada\n",
            "COMISSIÓ EXPERTS MÀSTER EEBE\n",
            "PIB_Tardor2017\n",
            "PROPOSTES MASTER EEBE\n",
            "FLL_EEBE\n",
            "Justificaciones_MEC2013\n",
            "NYC_CLAUDIA\n",
            "Colab Notebooks\n",
            "XERRADA_USBrain\n",
            "Viaje Moscu\n",
            "PRML18\n",
            "gestion_SAP\n",
            "SPAOM2018_Granada\n",
            "BECA_BBVA\n",
            "ASTROCITOS_HSJD\n",
            "RADIOLOGY_PATTERNS\n",
            "2018-19\n",
            "x63\n",
            "stats_Marcel_UAB\n",
            "TEXTOS_UOC\n",
            "datosredmitocondrial\n",
            "RyRact_STATS\n",
            "COURSE_IKERLAN\n",
            "Master Automatic Control and Robotics \n",
            "UOC\n",
            "PLANNING-DISCRETE EVENTS-ETSEIB\n",
            "Desktop\n",
            "GESTIÓ\n",
            "DTS_CSIC_HSJD\n",
            "BECA_BSABADELL\n",
            "BIOBANK_HSJD\n",
            "PAPER_MITOCONDRIAS_LISOSOMAS\n",
            "PAPER_MITO_FIBERS\n",
            "PRESENTACIONS_EEBE\n",
            "MOBILITAT_EEBE\n",
            "ARTICULO_PHOTOBLEACHING\n",
            "CONGRES_RADIOLOGIA\n",
            "CONVENI_MITSUBISHI\n",
            "MC_data\n",
            ".ipynb_checkpoints\n",
            "PAPER_MITOS_AZAHARA\n",
            "VISUALITZADOR_PYTHON\n",
            "OPENCV_Examples\n",
            "ECO3D_NEONATS\n",
            "informes_FPI_Xavier\n",
            "EXPERT3D_EITHealth\n",
            "QUALITAT_EEBE\n",
            "NOISE_SPARKS\n",
            "IVAN_PROJECT\n",
            "JORNADA_IA_SALUT\n",
            "KTH_partner days\n",
            "acci2019\n",
            "pyqt_intro\n",
            "Master Interdisciplinary & Innovative\n",
            "COURSE_IA_FIRE\n",
            "PIB_tardor\n",
            "ECUST_double_degree (1)\n",
            "REPORTS_INTERNATIONAL\n",
            "ECUST_double_degree\n",
            "Xerrada_HClinic\n",
            "Talk_HSJD_Neuroscience\n",
            "CMCIB_meeting\n",
            "Master Enginyeria Biomèdica\n",
            "UDG_HEMATO\n",
            "doubleDegree_EcolesCentrales\n",
            "projecte_europeu_ITN\n",
            "California_trip\n",
            "trieni tercer\n",
            "ACCI_CIBERER\n",
            "POSTGRAU_ML\n",
            "MIMETIS_segmentation\n",
            "ENDOSCOPIA_DEEPLEARNING\n",
            "CMCIB_PULMONS\n",
            "MaratoTV3_mitocondriales\n",
            "TesiCarme\n",
            "TORTUOSITY\n",
            "tutorialintroducciapython\n",
            "ControlAvazado\n",
            "koplovitz_vasculomica\n",
            "PAPER_simulation_RyR\n",
            "data_course\n",
            "MEC_ARCHIVE\n",
            "1er_tram_gestió\n",
            "MITO_FIBERS_x63\n",
            "NEUROPAISAJES_python\n",
            "PRESIDENT_PAU_2020\n",
            "xanascat_Norma_2020\n",
            "NEURITAS\n",
            "DAPR sample data\n"
          ],
          "name": "stdout"
        }
      ]
    },
    {
      "cell_type": "markdown",
      "metadata": {
        "id": "dctWz84r0Bb2",
        "colab_type": "text"
      },
      "source": [
        "If you want to dig into the contents of several folders then use the function walk instead"
      ]
    },
    {
      "cell_type": "code",
      "metadata": {
        "id": "wfB1To3jtIpx",
        "colab_type": "code",
        "colab": {}
      },
      "source": [
        "import os\n",
        "\n",
        "for root, dirs, files in os.walk(root_folder, topdown=False):\n",
        "    for name in dirs:\n",
        "        print(os.path.join(root, name))"
      ],
      "execution_count": null,
      "outputs": []
    },
    {
      "cell_type": "markdown",
      "metadata": {
        "id": "QJACcQNMv_gH",
        "colab_type": "text"
      },
      "source": [
        "### Accessing shared files\n",
        "\n",
        "Download the shared folder DAPR sample data from \n",
        "\n",
        "https://drive.google.com/drive/folders/1zKHhi3ZbhO8lUwtDAOo7qFZJlIVQjqL4?usp=sharing\n",
        "\n",
        "and place it in the root of your google drive:"
      ]
    },
    {
      "cell_type": "markdown",
      "metadata": {
        "id": "3NutJ9-1wRBv",
        "colab_type": "text"
      },
      "source": [
        "Now read the csv file text.csv:"
      ]
    },
    {
      "cell_type": "code",
      "metadata": {
        "id": "CNXsg_vCwVne",
        "colab_type": "code",
        "colab": {
          "base_uri": "https://localhost:8080/",
          "height": 170
        },
        "outputId": "3d78ec0e-3bf9-40e3-97bc-d0f93fb08fa7"
      },
      "source": [
        "import csv\n",
        "f = open(\"/content/gdrive/My Drive/DAPR sample data/test.csv\", 'r')\n",
        "try:\n",
        "    reader = csv.reader(f)\n",
        "    for row in reader:\n",
        "        print(row)\n",
        "finally:\n",
        "    f.close()"
      ],
      "execution_count": 13,
      "outputs": [
        {
          "output_type": "stream",
          "text": [
            "['\\ufeff10;3']\n",
            "['13;10']\n",
            "['16;17']\n",
            "['19;24']\n",
            "['22;31']\n",
            "['25;38']\n",
            "['28;45']\n",
            "['31;52']\n",
            "['34;59']\n"
          ],
          "name": "stdout"
        }
      ]
    },
    {
      "cell_type": "markdown",
      "metadata": {
        "id": "Dn00cwpHxryS",
        "colab_type": "text"
      },
      "source": [
        "Writing csv files"
      ]
    },
    {
      "cell_type": "code",
      "metadata": {
        "id": "bUvwRECFxub-",
        "colab_type": "code",
        "colab": {}
      },
      "source": [
        "import csv\n",
        "\n",
        "ifile  = open(\"/content/gdrive/My Drive/DAPR sample data/test.csv\", 'r')\n",
        "reader = csv.reader(ifile)\n",
        "\n",
        "ofile  = open('/content/gdrive/My Drive/DAPR sample data/test1.csv', \"w\")\n",
        "writer = csv.writer(ofile, delimiter=',', lineterminator='\\n')\n",
        "\n",
        "for row in reader:\n",
        "    writer.writerow(row)\n",
        "\n",
        "ifile.close()\n",
        "ofile.close()"
      ],
      "execution_count": 14,
      "outputs": []
    },
    {
      "cell_type": "markdown",
      "metadata": {
        "id": "1b6uVZjvyhNz",
        "colab_type": "text"
      },
      "source": [
        "### Read excel with Pandas\n",
        "\n",
        "In most cases, we are using the pandas library in order to read data."
      ]
    },
    {
      "cell_type": "code",
      "metadata": {
        "id": "qY4uSBbjyliY",
        "colab_type": "code",
        "colab": {
          "base_uri": "https://localhost:8080/",
          "height": 235
        },
        "outputId": "90443110-1ad4-4d3b-d150-eea004b8ffdd"
      },
      "source": [
        "import pandas as pd\n",
        "df = pd.read_excel('/content/gdrive/My Drive/DAPR sample data/test.xlsx', index_col=0,header=2)\n",
        "df.head()"
      ],
      "execution_count": 15,
      "outputs": [
        {
          "output_type": "execute_result",
          "data": {
            "text/html": [
              "<div>\n",
              "<style scoped>\n",
              "    .dataframe tbody tr th:only-of-type {\n",
              "        vertical-align: middle;\n",
              "    }\n",
              "\n",
              "    .dataframe tbody tr th {\n",
              "        vertical-align: top;\n",
              "    }\n",
              "\n",
              "    .dataframe thead th {\n",
              "        text-align: right;\n",
              "    }\n",
              "</style>\n",
              "<table border=\"1\" class=\"dataframe\">\n",
              "  <thead>\n",
              "    <tr style=\"text-align: right;\">\n",
              "      <th></th>\n",
              "      <th>Humans</th>\n",
              "      <th>Robots</th>\n",
              "    </tr>\n",
              "    <tr>\n",
              "      <th>Date</th>\n",
              "      <th></th>\n",
              "      <th></th>\n",
              "    </tr>\n",
              "  </thead>\n",
              "  <tbody>\n",
              "    <tr>\n",
              "      <th>2019-03-10</th>\n",
              "      <td>10</td>\n",
              "      <td>3</td>\n",
              "    </tr>\n",
              "    <tr>\n",
              "      <th>2019-03-11</th>\n",
              "      <td>13</td>\n",
              "      <td>10</td>\n",
              "    </tr>\n",
              "    <tr>\n",
              "      <th>2019-03-12</th>\n",
              "      <td>16</td>\n",
              "      <td>17</td>\n",
              "    </tr>\n",
              "    <tr>\n",
              "      <th>2019-03-13</th>\n",
              "      <td>19</td>\n",
              "      <td>24</td>\n",
              "    </tr>\n",
              "    <tr>\n",
              "      <th>2019-03-14</th>\n",
              "      <td>22</td>\n",
              "      <td>31</td>\n",
              "    </tr>\n",
              "  </tbody>\n",
              "</table>\n",
              "</div>"
            ],
            "text/plain": [
              "            Humans  Robots\n",
              "Date                      \n",
              "2019-03-10      10       3\n",
              "2019-03-11      13      10\n",
              "2019-03-12      16      17\n",
              "2019-03-13      19      24\n",
              "2019-03-14      22      31"
            ]
          },
          "metadata": {
            "tags": []
          },
          "execution_count": 15
        }
      ]
    },
    {
      "cell_type": "markdown",
      "metadata": {
        "id": "SLUhzwEZdl4i",
        "colab_type": "text"
      },
      "source": [
        "## Advanced Python\n",
        "\n",
        "### Functional Programming\n",
        "\n",
        "* lambda\n",
        "\n",
        "* map\n",
        "\n",
        "* filter"
      ]
    },
    {
      "cell_type": "markdown",
      "metadata": {
        "id": "kJiOjgwLdl4j",
        "colab_type": "text"
      },
      "source": [
        "#### Lambda\n",
        "\n",
        "Function without a name. Useful when you want to declare a function online, usally for using it as a parameter for another function."
      ]
    },
    {
      "cell_type": "code",
      "metadata": {
        "ExecuteTime": {
          "end_time": "2020-02-20T13:59:58.890755Z",
          "start_time": "2020-02-20T13:59:58.884284Z"
        },
        "id": "_VzJLXTPdl4j",
        "colab_type": "code",
        "colab": {
          "base_uri": "https://localhost:8080/",
          "height": 34
        },
        "outputId": "10282b60-aeb1-4870-986b-f1ddd01ce70e"
      },
      "source": [
        "def old_add (a,b):\n",
        "    return a+b\n",
        "\n",
        "new_add = lambda a, b: a + b\n",
        "\n",
        "new_add(4,5) == 4 + 5  and new_add(4,5) == old_add(4,5)\n"
      ],
      "execution_count": 16,
      "outputs": [
        {
          "output_type": "execute_result",
          "data": {
            "text/plain": [
              "True"
            ]
          },
          "metadata": {
            "tags": []
          },
          "execution_count": 16
        }
      ]
    },
    {
      "cell_type": "code",
      "metadata": {
        "ExecuteTime": {
          "end_time": "2020-02-20T14:00:00.112537Z",
          "start_time": "2020-02-20T14:00:00.097795Z"
        },
        "id": "VG1Fjc2bdl4n",
        "colab_type": "code",
        "colab": {}
      },
      "source": [
        "? sorted"
      ],
      "execution_count": 17,
      "outputs": []
    },
    {
      "cell_type": "code",
      "metadata": {
        "ExecuteTime": {
          "end_time": "2020-02-20T14:00:29.622494Z",
          "start_time": "2020-02-20T14:00:29.619753Z"
        },
        "id": "1ww0OBkSdl4q",
        "colab_type": "code",
        "colab": {
          "base_uri": "https://localhost:8080/",
          "height": 51
        },
        "outputId": "8e0d21f4-8bc7-4094-da6d-1f020b847819"
      },
      "source": [
        "unsorted = [('b', 6), ('a', 10), ('d', 0), ('c', 4)]\n",
        "print(sorted(unsorted))\n",
        "print(sorted(unsorted, key=lambda x: x[1]))"
      ],
      "execution_count": 18,
      "outputs": [
        {
          "output_type": "stream",
          "text": [
            "[('a', 10), ('b', 6), ('c', 4), ('d', 0)]\n",
            "[('d', 0), ('c', 4), ('b', 6), ('a', 10)]\n"
          ],
          "name": "stdout"
        }
      ]
    },
    {
      "cell_type": "markdown",
      "metadata": {
        "id": "sVYRWAVRdl4w",
        "colab_type": "text"
      },
      "source": [
        "#### Map\n",
        "\n",
        "Takes a function and a collection of values as a parameters. Exectutes the function in each element of the list. Useful when you want to use the functional pattern: map-reduce, normally when you wnat to process collections of data."
      ]
    },
    {
      "cell_type": "code",
      "metadata": {
        "ExecuteTime": {
          "end_time": "2020-02-20T14:00:49.419820Z",
          "start_time": "2020-02-20T14:00:49.416898Z"
        },
        "id": "UU8T5SeQdl4w",
        "colab_type": "code",
        "colab": {
          "base_uri": "https://localhost:8080/",
          "height": 51
        },
        "outputId": "f0a474d1-e956-48b4-d649-207cc73d7809"
      },
      "source": [
        "values = [1, 2, 3, 4, 5]\n",
        "# Note: We convert the returned map object to\n",
        "# a list data structure.\n",
        "\n",
        "add_10 = list(map(lambda x: x + 10, values))\n",
        "add_20 = list(map(lambda x: x + 20, values))\n",
        "print(add_10)\n",
        "print (add_20)\n"
      ],
      "execution_count": 19,
      "outputs": [
        {
          "output_type": "stream",
          "text": [
            "[11, 12, 13, 14, 15]\n",
            "[21, 22, 23, 24, 25]\n"
          ],
          "name": "stdout"
        }
      ]
    },
    {
      "cell_type": "code",
      "metadata": {
        "id": "aMhngr_bdl42",
        "colab_type": "code",
        "colab": {
          "base_uri": "https://localhost:8080/",
          "height": 34
        },
        "outputId": "8ed3d35b-6235-4976-a56e-fa4af501d7c6"
      },
      "source": [
        "import math\n",
        "list(map(math.sqrt,values))"
      ],
      "execution_count": 20,
      "outputs": [
        {
          "output_type": "execute_result",
          "data": {
            "text/plain": [
              "[1.0, 1.4142135623730951, 1.7320508075688772, 2.0, 2.23606797749979]"
            ]
          },
          "metadata": {
            "tags": []
          },
          "execution_count": 20
        }
      ]
    },
    {
      "cell_type": "markdown",
      "metadata": {
        "id": "BuvBXnP9dl44",
        "colab_type": "text"
      },
      "source": [
        "#### Filter\n",
        "Takes a boolen function and a collection of values as a parameters. Executes the boolean function to each value in the collection and return those of them that result is true. Useful for keep values that checks a certain test.\n"
      ]
    },
    {
      "cell_type": "code",
      "metadata": {
        "id": "bCoK0JkFdl44",
        "colab_type": "code",
        "colab": {
          "base_uri": "https://localhost:8080/",
          "height": 51
        },
        "outputId": "ce6f8d43-a1c7-4c5e-ddfe-8728a2d77237"
      },
      "source": [
        "values = [1, 2, 3, 4, 5, 6, 7, 8, 9, 10]\n",
        "\n",
        "# Note: We convert the returned filter object to\n",
        "# a list data structure.\n",
        "even = list(filter(lambda x: x % 2 == 0, values))\n",
        "odd = list(filter(lambda x: x % 2 == 1, values))\n",
        "\n",
        "print(even)\n",
        "\n",
        "print(odd)"
      ],
      "execution_count": 21,
      "outputs": [
        {
          "output_type": "stream",
          "text": [
            "[2, 4, 6, 8, 10]\n",
            "[1, 3, 5, 7, 9]\n"
          ],
          "name": "stdout"
        }
      ]
    }
  ]
}