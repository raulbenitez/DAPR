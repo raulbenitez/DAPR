{
  "nbformat": 4,
  "nbformat_minor": 0,
  "metadata": {
    "colab": {
      "provenance": [],
      "authorship_tag": "ABX9TyMw2lcvGhTQ72fXBHIEuwOD",
      "include_colab_link": true
    },
    "kernelspec": {
      "name": "python3",
      "display_name": "Python 3"
    },
    "language_info": {
      "name": "python"
    }
  },
  "cells": [
    {
      "cell_type": "markdown",
      "metadata": {
        "id": "view-in-github",
        "colab_type": "text"
      },
      "source": [
        "<a href=\"https://colab.research.google.com/github/raulbenitez/DAPR/blob/master/THEORY_LAB_SESSION_DAPR_21_SEP_22.ipynb\" target=\"_parent\"><img src=\"https://colab.research.google.com/assets/colab-badge.svg\" alt=\"Open In Colab\"/></a>"
      ]
    },
    {
      "cell_type": "markdown",
      "source": [
        "# Introduction\n",
        "\n",
        "This week, both the theory and laboratory sessions are going to be virtual and asynchronous. It is not needed to do it at the class hours but I strongly recommend that you do so. All you should do is follow the instructions described in this Python Notebook and submit the resulting .ipynb file to the corresponding task in the ATENEA digital Campus https://atenea.upc.edu/\n",
        "\n",
        "Please keep in mind that the main aim of this session is for you to learn, so if you are stuck or have any questions please don't hesitate contacting me at raul.benitez@upc.edu"
      ],
      "metadata": {
        "id": "nwyOhRJNHDgl"
      }
    },
    {
      "cell_type": "markdown",
      "source": [
        "#Task 1: Graphical Representation of data\n",
        "\n",
        "a) Watch the following video decribing how to graphically represent data using Python and google colab:\n",
        "\n",
        "https://drive.google.com/file/d/1VbtucP6cvsW20xaD8MJg2Exr1ecNAsND/view?usp=sharing\n",
        "\n",
        "The Python notebook used in the video can be found in the GitHub repository of the course: \n",
        "\n",
        "https://github.com/raulbenitez/DAPR/blob/master/Exploratory%20analysis%20pandas.ipynb\n",
        "\n",
        "\n",
        "b) Load one of the built-in databases from either seaborn or sklearn libraries (except iris, mpg or titanic). You should use the following functions:\n",
        "\n",
        "https://seaborn.pydata.org/generated/seaborn.load_dataset.html\n",
        "https://scikit-learn.org/stable/datasets/toy_dataset.html\n",
        "\n",
        "\n",
        "c) Create 4 different plots using matplotlib and/or seaborn libraries. Add a text cell describing the relevant aspects of the data that can be observed in each graph.\n",
        "\n",
        "\n",
        "\n"
      ],
      "metadata": {
        "id": "a30-njVJHk6F"
      }
    },
    {
      "cell_type": "code",
      "execution_count": null,
      "metadata": {
        "id": "gq-1ecZzG-Cg"
      },
      "outputs": [],
      "source": []
    },
    {
      "cell_type": "markdown",
      "source": [
        "# Task 2: Dimensionality reduction using Principal Component Analysis \n",
        "\n",
        "a) Watch the following video to get an introductory explanation to dimensionality reduction using Principal Component Analysis (PCA)\n",
        "\n",
        "https://drive.google.com/file/d/1DEjPB8T2y5LT1_1JkixFPGtTeuHXCa6K/view?usp=sharing\n",
        "\n",
        "b) Watch the following video to get an explanation of how to implement PCA in Python using sklearn libraries. \n",
        "\n",
        "\n",
        "https://drive.google.com/file/d/1bLGpxBSlfnGV8x53MnCR8y7xlXmNOqHu/view?usp=sharing\n",
        "\n",
        "The code used in the video can be found at the course GirHub repository:\n",
        "\n",
        "https://github.com/raulbenitez/DAPR/blob/master/Dimensionality%20Reduction.ipynb\n",
        "\n",
        "\n",
        "c) Load one of the built-in databases from the seaborn or sklearn libraries ((except iris, mpg or titanic). The dataset might not necessarily be the same of the one used in Task 1. Keep only the numerical features/variables by either using the pandas drop function (https://pandas.pydata.org/docs/reference/api/pandas.DataFrame.drop.html) or the pandas function df.select_dtypes(include='number') to keep only numeric variables from a dataframe df (https://pandas.pydata.org/docs/reference/api/pandas.DataFrame.select_dtypes.html). \n",
        "\n",
        "\n",
        "d) Use the sklearn libraries to apply PCA to reduce the dimensionality of the dataset. Documentation can be found at \n",
        "\n",
        "https://scikit-learn.org/stable/modules/generated/sklearn.decomposition.PCA.html\n",
        "\n",
        "\n",
        "Answer the following questions:\n",
        "\n",
        "  - How many observations and features are there in the dataset? \n",
        "  - Represent the multivariate dataset using a multidimensional pairplot https://seaborn.pydata.org/generated/seaborn.pairplot.html\n",
        "  - What is the variance explained by each PCA component?\n",
        "  - How many PCA components are needed to explain 95% of the variability in the dataset?\n",
        "  - Graphically represent the PCA eigenvalues using a barplot \n",
        "  - Use a pairplot to represent the dataset after dimensionality reduction "
      ],
      "metadata": {
        "id": "v0Gv1FAgJS7V"
      }
    },
    {
      "cell_type": "code",
      "source": [],
      "metadata": {
        "id": "lp9F4-faNrgL"
      },
      "execution_count": null,
      "outputs": []
    }
  ]
}